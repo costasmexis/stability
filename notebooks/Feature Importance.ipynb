{
 "cells": [
  {
   "cell_type": "markdown",
   "id": "d4e3086f",
   "metadata": {},
   "source": [
    "# Import libraries "
   ]
  },
  {
   "cell_type": "code",
   "execution_count": 1,
   "id": "0c386cde",
   "metadata": {},
   "outputs": [],
   "source": [
    "import numpy as np\n",
    "import pandas as pd\n",
    "import pickle\n",
    "\n",
    "from matplotlib import pyplot as plt\n",
    "\n",
    "from sklearn.datasets import make_classification\n",
    "from sklearn import tree\n",
    "from sklearn.model_selection import train_test_split\n",
    "from sklearn.preprocessing import MinMaxScaler\n",
    "\n",
    "from sklearn.feature_selection import SelectKBest\n",
    "from sklearn.feature_selection import f_classif\n",
    "\n",
    "from sklearn.ensemble import RandomForestClassifier\n",
    "from sklearn.tree import DecisionTreeClassifier\n",
    "\n",
    "import warnings\n",
    "warnings.filterwarnings('ignore')\n",
    "\n",
    "SEED = 42"
   ]
  },
  {
   "cell_type": "markdown",
   "id": "1ac99951",
   "metadata": {},
   "source": [
    "# Load data"
   ]
  },
  {
   "cell_type": "code",
   "execution_count": 2,
   "id": "cabb3da7",
   "metadata": {},
   "outputs": [],
   "source": [
    "df = pd.read_csv('../data/Parameters_90%stability.csv')\n",
    "df = df.drop(['Unnamed: 0'], axis = 1)\n",
    "X_train = pd.read_csv('../data/x_train.csv')\n",
    "y_train = pd.read_csv('../data/y_train.csv')\n",
    "X_test = pd.read_csv('../data/x_test.csv')\n",
    "y_test = pd.read_csv('../data/y_test.csv')"
   ]
  },
  {
   "cell_type": "markdown",
   "id": "4007f0e4",
   "metadata": {},
   "source": [
    "## Normalize data"
   ]
  },
  {
   "cell_type": "code",
   "execution_count": 3,
   "id": "bc01b9d7",
   "metadata": {},
   "outputs": [],
   "source": [
    "from sklearn.preprocessing import StandardScaler, MinMaxScaler\n",
    "\n",
    "def normalize(X_train, X_test):\n",
    "    scaler = StandardScaler()\n",
    "#     scaler = MinMaxScaler()\n",
    "    X_train = scaler.fit_transform(X_train)\n",
    "    X_test = scaler.transform(X_test)\n",
    "    return X_train, X_test\n",
    "\n",
    "X_train, X_test = normalize(X_train, X_test)"
   ]
  },
  {
   "cell_type": "markdown",
   "id": "30d8a901",
   "metadata": {},
   "source": [
    "# SelectKBest"
   ]
  },
  {
   "cell_type": "code",
   "execution_count": 4,
   "id": "1fc4ecda",
   "metadata": {},
   "outputs": [
    {
     "data": {
      "text/plain": [
       "array(['Gamma_ACACT1r', 'Gamma_ALCD2irm', 'Gamma_ANS', 'Gamma_ASPTA',\n",
       "       'Gamma_ACN_a_m', 'Gamma_G6PDH2r', 'Gamma_GLUSx', 'Gamma_GF6PTA',\n",
       "       'Gamma_IG3PS', 'Gamma_AKGDbm', 'Gamma_PHETA1', 'Gamma_PSERT',\n",
       "       'Gamma_PHETRA', 'Gamma_CITtbm', 'Gamma_ASNt2r', 'Gamma_ACALDtm',\n",
       "       'Gamma_HCO3E', 'Gamma_ALAtmi', 'Gamma_ACONTm', 'Gamma_CBPt'],\n",
       "      dtype=object)"
      ]
     },
     "execution_count": 4,
     "metadata": {},
     "output_type": "execute_result"
    }
   ],
   "source": [
    "select_class = SelectKBest(f_classif, k=20)\n",
    "select_class.fit(X_train, y_train)\n",
    "X_train_new = select_class.transform(X_train)\n",
    "new_df = df.drop('Stability',axis=1).iloc[:,select_class.get_support()]\n",
    "new_df.columns.values\n",
    "selectkbest_features = new_df.columns.values\n",
    "selectkbest_features"
   ]
  },
  {
   "cell_type": "markdown",
   "id": "9150b5fa",
   "metadata": {},
   "source": [
    "# Tree-based approach"
   ]
  },
  {
   "cell_type": "code",
   "execution_count": 5,
   "id": "5a564a5c",
   "metadata": {},
   "outputs": [],
   "source": [
    "def feature_importance(model, graph):\n",
    "    model.fit(X_train, y_train)\n",
    "\n",
    "    feats = {} # a dict to hold feature_name: feature_importance\n",
    "    \n",
    "    for feature, importance in zip(df.drop(columns='Stability').columns, model.feature_importances_):\n",
    "        feats[feature] = importance #add the name/value pair \n",
    "\n",
    "    importances = pd.DataFrame.from_dict(feats, orient='index').rename(columns={0: 'Feature Importance'})\n",
    "    print(importances.sort_values(by='Feature Importance').tail(15))\n",
    "    if(graph):\n",
    "        importances.sort_values(by='Feature Importance').tail(15).plot(kind='bar', rot=45, figsize=(25, 25))\n",
    "        plt.show()\n",
    "        \n",
    "    return importances.sort_values(by='Feature Importance').tail(15)"
   ]
  },
  {
   "cell_type": "code",
   "execution_count": 6,
   "id": "b0bf3b2e",
   "metadata": {},
   "outputs": [
    {
     "name": "stdout",
     "output_type": "stream",
     "text": [
      "                                          Feature Importance\n",
      "sigma_km_substrate18_LMPD_s_0450_c_1_256            0.006402\n",
      "sigma_km_product_TYRt2r                             0.006494\n",
      "Gamma_CTPtrm                                        0.006656\n",
      "sigma_km_product1_ICDHxm                            0.006743\n",
      "sigma_km_product2_SUCFUMtm                          0.006790\n",
      "sigma_km_product2_ALCD26xi                          0.006858\n",
      "sigma_km_product2_GF6PTA                            0.006925\n",
      "Gamma_ORNTA                                         0.007076\n",
      "Gamma_ALAtmi                                        0.007294\n",
      "Gamma_IG3PS                                         0.007644\n",
      "Gamma_GLUSx                                         0.008146\n",
      "Gamma_ENO                                           0.008947\n",
      "Gamma_HOMSYN2                                       0.009401\n",
      "Gamma_HCO3E                                         0.009553\n",
      "Gamma_2PHETOHtm                                     0.015814\n"
     ]
    }
   ],
   "source": [
    "rf_features = feature_importance(RandomForestClassifier(), 0)"
   ]
  },
  {
   "cell_type": "code",
   "execution_count": 7,
   "id": "e21f9f73",
   "metadata": {
    "scrolled": true
   },
   "outputs": [
    {
     "name": "stdout",
     "output_type": "stream",
     "text": [
      "                              Feature Importance\n",
      "sigma_km_substrate1_ILETA               0.023332\n",
      "sigma_km_product2_ICDHym                0.023683\n",
      "sigma_km_substrate2_PHETRA              0.023963\n",
      "sigma_km_product2_ASPTA                 0.024248\n",
      "Gamma_ALCD25xi                          0.027442\n",
      "sigma_km_product2_2OXOADPTm             0.027442\n",
      "sigma_km_substrate_VALt5m               0.032669\n",
      "sigma_km_product_E4Ptm                  0.032930\n",
      "sigma_km_product2_GLUDy                 0.036403\n",
      "sigma_km_product2_ASPTAm                0.046752\n",
      "sigma_km_product2_SUCFUMtm              0.081600\n",
      "sigma_km_substrate1_AKGMALtm            0.082716\n",
      "sigma_km_substrate1_GUAPRT              0.083145\n",
      "sigma_km_product2_AKGMAL                0.134397\n",
      "Gamma_ALATA_L                           0.239348\n"
     ]
    }
   ],
   "source": [
    "dct_features = feature_importance(DecisionTreeClassifier(), 0)"
   ]
  },
  {
   "cell_type": "markdown",
   "id": "33bba287",
   "metadata": {},
   "source": [
    "# XGBoost"
   ]
  },
  {
   "cell_type": "code",
   "execution_count": 8,
   "id": "42f9e7d6",
   "metadata": {},
   "outputs": [
    {
     "name": "stdout",
     "output_type": "stream",
     "text": [
      "                              Feature Importance\n",
      "sigma_km_product2_ICDHym                0.017070\n",
      "sigma_km_substrate2_TKT2                0.017075\n",
      "sigma_km_substrate2_MALS                0.018085\n",
      "sigma_km_substrate2_IPPS                0.020386\n",
      "sigma_km_substrate2_ICDHxm              0.023376\n",
      "sigma_km_product2_PRFGS                 0.024425\n",
      "sigma_km_product1_MGSA                  0.025277\n",
      "sigma_km_product2_GF6PTA                0.025924\n",
      "sigma_km_product2_ASPTAm                0.027528\n",
      "Gamma_IPPSm                             0.032267\n",
      "sigma_km_product2_SUCFUMtm              0.034829\n",
      "sigma_km_product2_AKGMAL                0.039341\n",
      "sigma_km_substrate1_AKGMALtm            0.042567\n",
      "sigma_km_substrate1_GUAPRT              0.053418\n",
      "Gamma_GLUDC                             0.056604\n"
     ]
    }
   ],
   "source": [
    "from xgboost import XGBClassifier\n",
    "\n",
    "xgb_features = feature_importance(XGBClassifier(eval_metric='logloss'), 0)"
   ]
  },
  {
   "cell_type": "markdown",
   "id": "38797b9b",
   "metadata": {},
   "source": [
    "# Boruta"
   ]
  },
  {
   "cell_type": "markdown",
   "id": "34334e15",
   "metadata": {
    "collapsed": true
   },
   "source": [
    "!pip install boruta"
   ]
  },
  {
   "cell_type": "code",
   "execution_count": 9,
   "id": "9784fdce",
   "metadata": {},
   "outputs": [
    {
     "name": "stdout",
     "output_type": "stream",
     "text": [
      "Iteration: \t1 / 100\n",
      "Confirmed: \t0\n",
      "Tentative: \t1410\n",
      "Rejected: \t0\n",
      "Iteration: \t2 / 100\n",
      "Confirmed: \t0\n",
      "Tentative: \t1410\n",
      "Rejected: \t0\n",
      "Iteration: \t3 / 100\n",
      "Confirmed: \t0\n",
      "Tentative: \t1410\n",
      "Rejected: \t0\n",
      "Iteration: \t4 / 100\n",
      "Confirmed: \t0\n",
      "Tentative: \t1410\n",
      "Rejected: \t0\n",
      "Iteration: \t5 / 100\n",
      "Confirmed: \t0\n",
      "Tentative: \t1410\n",
      "Rejected: \t0\n",
      "Iteration: \t6 / 100\n",
      "Confirmed: \t0\n",
      "Tentative: \t1410\n",
      "Rejected: \t0\n",
      "Iteration: \t7 / 100\n",
      "Confirmed: \t0\n",
      "Tentative: \t1410\n",
      "Rejected: \t0\n",
      "Iteration: \t8 / 100\n",
      "Confirmed: \t0\n",
      "Tentative: \t113\n",
      "Rejected: \t1297\n",
      "Iteration: \t9 / 100\n",
      "Confirmed: \t0\n",
      "Tentative: \t113\n",
      "Rejected: \t1297\n",
      "Iteration: \t10 / 100\n",
      "Confirmed: \t0\n",
      "Tentative: \t113\n",
      "Rejected: \t1297\n",
      "Iteration: \t11 / 100\n",
      "Confirmed: \t0\n",
      "Tentative: \t113\n",
      "Rejected: \t1297\n",
      "Iteration: \t12 / 100\n",
      "Confirmed: \t1\n",
      "Tentative: \t92\n",
      "Rejected: \t1317\n",
      "Iteration: \t13 / 100\n",
      "Confirmed: \t1\n",
      "Tentative: \t92\n",
      "Rejected: \t1317\n",
      "Iteration: \t14 / 100\n",
      "Confirmed: \t1\n",
      "Tentative: \t92\n",
      "Rejected: \t1317\n",
      "Iteration: \t15 / 100\n",
      "Confirmed: \t1\n",
      "Tentative: \t92\n",
      "Rejected: \t1317\n",
      "Iteration: \t16 / 100\n",
      "Confirmed: \t1\n",
      "Tentative: \t79\n",
      "Rejected: \t1330\n",
      "Iteration: \t17 / 100\n",
      "Confirmed: \t2\n",
      "Tentative: \t78\n",
      "Rejected: \t1330\n",
      "Iteration: \t18 / 100\n",
      "Confirmed: \t2\n",
      "Tentative: \t78\n",
      "Rejected: \t1330\n",
      "Iteration: \t19 / 100\n",
      "Confirmed: \t2\n",
      "Tentative: \t74\n",
      "Rejected: \t1334\n",
      "Iteration: \t20 / 100\n",
      "Confirmed: \t2\n",
      "Tentative: \t74\n",
      "Rejected: \t1334\n",
      "Iteration: \t21 / 100\n",
      "Confirmed: \t2\n",
      "Tentative: \t74\n",
      "Rejected: \t1334\n",
      "Iteration: \t22 / 100\n",
      "Confirmed: \t4\n",
      "Tentative: \t65\n",
      "Rejected: \t1341\n",
      "Iteration: \t23 / 100\n",
      "Confirmed: \t4\n",
      "Tentative: \t65\n",
      "Rejected: \t1341\n",
      "Iteration: \t24 / 100\n",
      "Confirmed: \t4\n",
      "Tentative: \t65\n",
      "Rejected: \t1341\n",
      "Iteration: \t25 / 100\n",
      "Confirmed: \t4\n",
      "Tentative: \t65\n",
      "Rejected: \t1341\n",
      "Iteration: \t26 / 100\n",
      "Confirmed: \t6\n",
      "Tentative: \t60\n",
      "Rejected: \t1344\n",
      "Iteration: \t27 / 100\n",
      "Confirmed: \t6\n",
      "Tentative: \t60\n",
      "Rejected: \t1344\n",
      "Iteration: \t28 / 100\n",
      "Confirmed: \t6\n",
      "Tentative: \t60\n",
      "Rejected: \t1344\n",
      "Iteration: \t29 / 100\n",
      "Confirmed: \t7\n",
      "Tentative: \t57\n",
      "Rejected: \t1346\n",
      "Iteration: \t30 / 100\n",
      "Confirmed: \t7\n",
      "Tentative: \t57\n",
      "Rejected: \t1346\n",
      "Iteration: \t31 / 100\n",
      "Confirmed: \t7\n",
      "Tentative: \t57\n",
      "Rejected: \t1346\n",
      "Iteration: \t32 / 100\n",
      "Confirmed: \t8\n",
      "Tentative: \t54\n",
      "Rejected: \t1348\n",
      "Iteration: \t33 / 100\n",
      "Confirmed: \t8\n",
      "Tentative: \t54\n",
      "Rejected: \t1348\n",
      "Iteration: \t34 / 100\n",
      "Confirmed: \t9\n",
      "Tentative: \t47\n",
      "Rejected: \t1354\n",
      "Iteration: \t35 / 100\n",
      "Confirmed: \t9\n",
      "Tentative: \t47\n",
      "Rejected: \t1354\n",
      "Iteration: \t36 / 100\n",
      "Confirmed: \t9\n",
      "Tentative: \t47\n",
      "Rejected: \t1354\n",
      "Iteration: \t37 / 100\n",
      "Confirmed: \t9\n",
      "Tentative: \t43\n",
      "Rejected: \t1358\n",
      "Iteration: \t38 / 100\n",
      "Confirmed: \t9\n",
      "Tentative: \t43\n",
      "Rejected: \t1358\n",
      "Iteration: \t39 / 100\n",
      "Confirmed: \t9\n",
      "Tentative: \t43\n",
      "Rejected: \t1358\n",
      "Iteration: \t40 / 100\n",
      "Confirmed: \t9\n",
      "Tentative: \t41\n",
      "Rejected: \t1360\n",
      "Iteration: \t41 / 100\n",
      "Confirmed: \t9\n",
      "Tentative: \t41\n",
      "Rejected: \t1360\n",
      "Iteration: \t42 / 100\n",
      "Confirmed: \t9\n",
      "Tentative: \t41\n",
      "Rejected: \t1360\n",
      "Iteration: \t43 / 100\n",
      "Confirmed: \t10\n",
      "Tentative: \t40\n",
      "Rejected: \t1360\n",
      "Iteration: \t44 / 100\n",
      "Confirmed: \t10\n",
      "Tentative: \t40\n",
      "Rejected: \t1360\n",
      "Iteration: \t45 / 100\n",
      "Confirmed: \t10\n",
      "Tentative: \t40\n",
      "Rejected: \t1360\n",
      "Iteration: \t46 / 100\n",
      "Confirmed: \t11\n",
      "Tentative: \t38\n",
      "Rejected: \t1361\n",
      "Iteration: \t47 / 100\n",
      "Confirmed: \t11\n",
      "Tentative: \t38\n",
      "Rejected: \t1361\n",
      "Iteration: \t48 / 100\n",
      "Confirmed: \t11\n",
      "Tentative: \t38\n",
      "Rejected: \t1361\n",
      "Iteration: \t49 / 100\n",
      "Confirmed: \t12\n",
      "Tentative: \t37\n",
      "Rejected: \t1361\n",
      "Iteration: \t50 / 100\n",
      "Confirmed: \t12\n",
      "Tentative: \t37\n",
      "Rejected: \t1361\n",
      "Iteration: \t51 / 100\n",
      "Confirmed: \t12\n",
      "Tentative: \t37\n",
      "Rejected: \t1361\n",
      "Iteration: \t52 / 100\n",
      "Confirmed: \t12\n",
      "Tentative: \t37\n",
      "Rejected: \t1361\n",
      "Iteration: \t53 / 100\n",
      "Confirmed: \t12\n",
      "Tentative: \t37\n",
      "Rejected: \t1361\n",
      "Iteration: \t54 / 100\n",
      "Confirmed: \t12\n",
      "Tentative: \t36\n",
      "Rejected: \t1362\n",
      "Iteration: \t55 / 100\n",
      "Confirmed: \t12\n",
      "Tentative: \t36\n",
      "Rejected: \t1362\n",
      "Iteration: \t56 / 100\n",
      "Confirmed: \t12\n",
      "Tentative: \t36\n",
      "Rejected: \t1362\n",
      "Iteration: \t57 / 100\n",
      "Confirmed: \t12\n",
      "Tentative: \t36\n",
      "Rejected: \t1362\n",
      "Iteration: \t58 / 100\n",
      "Confirmed: \t12\n",
      "Tentative: \t36\n",
      "Rejected: \t1362\n",
      "Iteration: \t59 / 100\n",
      "Confirmed: \t12\n",
      "Tentative: \t36\n",
      "Rejected: \t1362\n",
      "Iteration: \t60 / 100\n",
      "Confirmed: \t12\n",
      "Tentative: \t36\n",
      "Rejected: \t1362\n",
      "Iteration: \t61 / 100\n",
      "Confirmed: \t12\n",
      "Tentative: \t36\n",
      "Rejected: \t1362\n",
      "Iteration: \t62 / 100\n",
      "Confirmed: \t12\n",
      "Tentative: \t36\n",
      "Rejected: \t1362\n",
      "Iteration: \t63 / 100\n",
      "Confirmed: \t12\n",
      "Tentative: \t36\n",
      "Rejected: \t1362\n",
      "Iteration: \t64 / 100\n",
      "Confirmed: \t12\n",
      "Tentative: \t36\n",
      "Rejected: \t1362\n",
      "Iteration: \t65 / 100\n",
      "Confirmed: \t12\n",
      "Tentative: \t36\n",
      "Rejected: \t1362\n",
      "Iteration: \t66 / 100\n",
      "Confirmed: \t12\n",
      "Tentative: \t36\n",
      "Rejected: \t1362\n",
      "Iteration: \t67 / 100\n",
      "Confirmed: \t12\n",
      "Tentative: \t36\n",
      "Rejected: \t1362\n",
      "Iteration: \t68 / 100\n",
      "Confirmed: \t12\n",
      "Tentative: \t36\n",
      "Rejected: \t1362\n",
      "Iteration: \t69 / 100\n",
      "Confirmed: \t12\n",
      "Tentative: \t36\n",
      "Rejected: \t1362\n",
      "Iteration: \t70 / 100\n",
      "Confirmed: \t13\n",
      "Tentative: \t35\n",
      "Rejected: \t1362\n",
      "Iteration: \t71 / 100\n",
      "Confirmed: \t13\n",
      "Tentative: \t35\n",
      "Rejected: \t1362\n",
      "Iteration: \t72 / 100\n",
      "Confirmed: \t14\n",
      "Tentative: \t34\n",
      "Rejected: \t1362\n",
      "Iteration: \t73 / 100\n",
      "Confirmed: \t14\n",
      "Tentative: \t34\n",
      "Rejected: \t1362\n",
      "Iteration: \t74 / 100\n",
      "Confirmed: \t14\n",
      "Tentative: \t34\n",
      "Rejected: \t1362\n",
      "Iteration: \t75 / 100\n",
      "Confirmed: \t14\n",
      "Tentative: \t34\n",
      "Rejected: \t1362\n",
      "Iteration: \t76 / 100\n",
      "Confirmed: \t14\n",
      "Tentative: \t34\n",
      "Rejected: \t1362\n",
      "Iteration: \t77 / 100\n",
      "Confirmed: \t14\n",
      "Tentative: \t34\n",
      "Rejected: \t1362\n",
      "Iteration: \t78 / 100\n",
      "Confirmed: \t14\n",
      "Tentative: \t34\n",
      "Rejected: \t1362\n",
      "Iteration: \t79 / 100\n",
      "Confirmed: \t14\n",
      "Tentative: \t34\n",
      "Rejected: \t1362\n",
      "Iteration: \t80 / 100\n",
      "Confirmed: \t14\n",
      "Tentative: \t34\n",
      "Rejected: \t1362\n",
      "Iteration: \t81 / 100\n",
      "Confirmed: \t14\n",
      "Tentative: \t34\n",
      "Rejected: \t1362\n",
      "Iteration: \t82 / 100\n",
      "Confirmed: \t14\n",
      "Tentative: \t34\n",
      "Rejected: \t1362\n",
      "Iteration: \t83 / 100\n",
      "Confirmed: \t14\n",
      "Tentative: \t33\n",
      "Rejected: \t1363\n",
      "Iteration: \t84 / 100\n",
      "Confirmed: \t14\n",
      "Tentative: \t33\n",
      "Rejected: \t1363\n",
      "Iteration: \t85 / 100\n",
      "Confirmed: \t14\n",
      "Tentative: \t33\n",
      "Rejected: \t1363\n",
      "Iteration: \t86 / 100\n",
      "Confirmed: \t14\n",
      "Tentative: \t33\n",
      "Rejected: \t1363\n",
      "Iteration: \t87 / 100\n",
      "Confirmed: \t14\n",
      "Tentative: \t33\n",
      "Rejected: \t1363\n",
      "Iteration: \t88 / 100\n",
      "Confirmed: \t14\n",
      "Tentative: \t33\n",
      "Rejected: \t1363\n",
      "Iteration: \t89 / 100\n",
      "Confirmed: \t14\n",
      "Tentative: \t33\n",
      "Rejected: \t1363\n",
      "Iteration: \t90 / 100\n",
      "Confirmed: \t15\n",
      "Tentative: \t32\n",
      "Rejected: \t1363\n",
      "Iteration: \t91 / 100\n",
      "Confirmed: \t15\n",
      "Tentative: \t32\n",
      "Rejected: \t1363\n",
      "Iteration: \t92 / 100\n",
      "Confirmed: \t15\n",
      "Tentative: \t32\n",
      "Rejected: \t1363\n",
      "Iteration: \t93 / 100\n",
      "Confirmed: \t15\n",
      "Tentative: \t32\n",
      "Rejected: \t1363\n",
      "Iteration: \t94 / 100\n",
      "Confirmed: \t15\n",
      "Tentative: \t32\n",
      "Rejected: \t1363\n",
      "Iteration: \t95 / 100\n",
      "Confirmed: \t15\n",
      "Tentative: \t32\n",
      "Rejected: \t1363\n",
      "Iteration: \t96 / 100\n",
      "Confirmed: \t15\n",
      "Tentative: \t32\n",
      "Rejected: \t1363\n",
      "Iteration: \t97 / 100\n",
      "Confirmed: \t15\n",
      "Tentative: \t32\n",
      "Rejected: \t1363\n",
      "Iteration: \t98 / 100\n",
      "Confirmed: \t15\n",
      "Tentative: \t32\n",
      "Rejected: \t1363\n",
      "Iteration: \t99 / 100\n",
      "Confirmed: \t15\n",
      "Tentative: \t32\n",
      "Rejected: \t1363\n",
      "\n",
      "\n",
      "BorutaPy finished running.\n",
      "\n",
      "Iteration: \t100 / 100\n",
      "Confirmed: \t15\n",
      "Tentative: \t15\n",
      "Rejected: \t1363\n"
     ]
    },
    {
     "data": {
      "text/html": [
       "<style>#sk-container-id-1 {color: black;background-color: white;}#sk-container-id-1 pre{padding: 0;}#sk-container-id-1 div.sk-toggleable {background-color: white;}#sk-container-id-1 label.sk-toggleable__label {cursor: pointer;display: block;width: 100%;margin-bottom: 0;padding: 0.3em;box-sizing: border-box;text-align: center;}#sk-container-id-1 label.sk-toggleable__label-arrow:before {content: \"▸\";float: left;margin-right: 0.25em;color: #696969;}#sk-container-id-1 label.sk-toggleable__label-arrow:hover:before {color: black;}#sk-container-id-1 div.sk-estimator:hover label.sk-toggleable__label-arrow:before {color: black;}#sk-container-id-1 div.sk-toggleable__content {max-height: 0;max-width: 0;overflow: hidden;text-align: left;background-color: #f0f8ff;}#sk-container-id-1 div.sk-toggleable__content pre {margin: 0.2em;color: black;border-radius: 0.25em;background-color: #f0f8ff;}#sk-container-id-1 input.sk-toggleable__control:checked~div.sk-toggleable__content {max-height: 200px;max-width: 100%;overflow: auto;}#sk-container-id-1 input.sk-toggleable__control:checked~label.sk-toggleable__label-arrow:before {content: \"▾\";}#sk-container-id-1 div.sk-estimator input.sk-toggleable__control:checked~label.sk-toggleable__label {background-color: #d4ebff;}#sk-container-id-1 div.sk-label input.sk-toggleable__control:checked~label.sk-toggleable__label {background-color: #d4ebff;}#sk-container-id-1 input.sk-hidden--visually {border: 0;clip: rect(1px 1px 1px 1px);clip: rect(1px, 1px, 1px, 1px);height: 1px;margin: -1px;overflow: hidden;padding: 0;position: absolute;width: 1px;}#sk-container-id-1 div.sk-estimator {font-family: monospace;background-color: #f0f8ff;border: 1px dotted black;border-radius: 0.25em;box-sizing: border-box;margin-bottom: 0.5em;}#sk-container-id-1 div.sk-estimator:hover {background-color: #d4ebff;}#sk-container-id-1 div.sk-parallel-item::after {content: \"\";width: 100%;border-bottom: 1px solid gray;flex-grow: 1;}#sk-container-id-1 div.sk-label:hover label.sk-toggleable__label {background-color: #d4ebff;}#sk-container-id-1 div.sk-serial::before {content: \"\";position: absolute;border-left: 1px solid gray;box-sizing: border-box;top: 0;bottom: 0;left: 50%;z-index: 0;}#sk-container-id-1 div.sk-serial {display: flex;flex-direction: column;align-items: center;background-color: white;padding-right: 0.2em;padding-left: 0.2em;position: relative;}#sk-container-id-1 div.sk-item {position: relative;z-index: 1;}#sk-container-id-1 div.sk-parallel {display: flex;align-items: stretch;justify-content: center;background-color: white;position: relative;}#sk-container-id-1 div.sk-item::before, #sk-container-id-1 div.sk-parallel-item::before {content: \"\";position: absolute;border-left: 1px solid gray;box-sizing: border-box;top: 0;bottom: 0;left: 50%;z-index: -1;}#sk-container-id-1 div.sk-parallel-item {display: flex;flex-direction: column;z-index: 1;position: relative;background-color: white;}#sk-container-id-1 div.sk-parallel-item:first-child::after {align-self: flex-end;width: 50%;}#sk-container-id-1 div.sk-parallel-item:last-child::after {align-self: flex-start;width: 50%;}#sk-container-id-1 div.sk-parallel-item:only-child::after {width: 0;}#sk-container-id-1 div.sk-dashed-wrapped {border: 1px dashed gray;margin: 0 0.4em 0.5em 0.4em;box-sizing: border-box;padding-bottom: 0.4em;background-color: white;}#sk-container-id-1 div.sk-label label {font-family: monospace;font-weight: bold;display: inline-block;line-height: 1.2em;}#sk-container-id-1 div.sk-label-container {text-align: center;}#sk-container-id-1 div.sk-container {/* jupyter's `normalize.less` sets `[hidden] { display: none; }` but bootstrap.min.css set `[hidden] { display: none !important; }` so we also need the `!important` here to be able to override the default hidden behavior on the sphinx rendered scikit-learn.org. See: https://github.com/scikit-learn/scikit-learn/issues/21755 */display: inline-block !important;position: relative;}#sk-container-id-1 div.sk-text-repr-fallback {display: none;}</style><div id=\"sk-container-id-1\" class=\"sk-top-container\"><div class=\"sk-text-repr-fallback\"><pre>BorutaPy(estimator=RandomForestClassifier(n_estimators=96,\n",
       "                                          random_state=RandomState(MT19937) at 0x7FB8CE9F3140),\n",
       "         n_estimators=&#x27;auto&#x27;,\n",
       "         random_state=RandomState(MT19937) at 0x7FB8CE9F3140, verbose=2)</pre><b>In a Jupyter environment, please rerun this cell to show the HTML representation or trust the notebook. <br />On GitHub, the HTML representation is unable to render, please try loading this page with nbviewer.org.</b></div><div class=\"sk-container\" hidden><div class=\"sk-item sk-dashed-wrapped\"><div class=\"sk-label-container\"><div class=\"sk-label sk-toggleable\"><input class=\"sk-toggleable__control sk-hidden--visually\" id=\"sk-estimator-id-1\" type=\"checkbox\" ><label for=\"sk-estimator-id-1\" class=\"sk-toggleable__label sk-toggleable__label-arrow\">BorutaPy</label><div class=\"sk-toggleable__content\"><pre>BorutaPy(estimator=RandomForestClassifier(n_estimators=96,\n",
       "                                          random_state=RandomState(MT19937) at 0x7FB8CE9F3140),\n",
       "         n_estimators=&#x27;auto&#x27;,\n",
       "         random_state=RandomState(MT19937) at 0x7FB8CE9F3140, verbose=2)</pre></div></div></div><div class=\"sk-parallel\"><div class=\"sk-parallel-item\"><div class=\"sk-item\"><div class=\"sk-label-container\"><div class=\"sk-label sk-toggleable\"><input class=\"sk-toggleable__control sk-hidden--visually\" id=\"sk-estimator-id-2\" type=\"checkbox\" ><label for=\"sk-estimator-id-2\" class=\"sk-toggleable__label sk-toggleable__label-arrow\">estimator: RandomForestClassifier</label><div class=\"sk-toggleable__content\"><pre>RandomForestClassifier(n_estimators=96,\n",
       "                       random_state=RandomState(MT19937) at 0x7FB8CE9F3140)</pre></div></div></div><div class=\"sk-serial\"><div class=\"sk-item\"><div class=\"sk-estimator sk-toggleable\"><input class=\"sk-toggleable__control sk-hidden--visually\" id=\"sk-estimator-id-3\" type=\"checkbox\" ><label for=\"sk-estimator-id-3\" class=\"sk-toggleable__label sk-toggleable__label-arrow\">RandomForestClassifier</label><div class=\"sk-toggleable__content\"><pre>RandomForestClassifier(n_estimators=96,\n",
       "                       random_state=RandomState(MT19937) at 0x7FB8CE9F3140)</pre></div></div></div></div></div></div></div></div></div></div>"
      ],
      "text/plain": [
       "BorutaPy(estimator=RandomForestClassifier(n_estimators=96,\n",
       "                                          random_state=RandomState(MT19937) at 0x7FB8CE9F3140),\n",
       "         n_estimators='auto',\n",
       "         random_state=RandomState(MT19937) at 0x7FB8CE9F3140, verbose=2)"
      ]
     },
     "execution_count": 9,
     "metadata": {},
     "output_type": "execute_result"
    }
   ],
   "source": [
    "from boruta import BorutaPy\n",
    "\n",
    "forest = RandomForestClassifier(random_state=SEED)\n",
    "feat_selector = BorutaPy(forest, n_estimators='auto', \n",
    "                         verbose=2, random_state=SEED)\n",
    "feat_selector.fit(X_train, y_train)"
   ]
  },
  {
   "cell_type": "code",
   "execution_count": 10,
   "id": "09505697",
   "metadata": {},
   "outputs": [
    {
     "name": "stdout",
     "output_type": "stream",
     "text": [
      "[False False False ... False False False]\n",
      "[ 197 1049   42 ...  369 1239  738]\n",
      "(260, 15)\n",
      "      keep                         col  score\n",
      "50    True                 Gamma_IG3PS      1\n",
      "207   True               Gamma_ALATA_L      1\n",
      "432   True    sigma_km_product2_AKGMAL      1\n",
      "466   True  sigma_km_product2_ALCD26xi      1\n",
      "539   True     sigma_km_substrate_ATPM      1\n",
      "574   True     sigma_km_product1_CHORS      1\n",
      "722   True    sigma_km_product2_GF6PTA      1\n",
      "745   True   sigma_km_substrate1_GLUDy      1\n",
      "748   True     sigma_km_product2_GLUDy      1\n",
      "822   True     sigma_km_product2_HSTPT      1\n",
      "840   True    sigma_km_product1_ICDHxm      1\n",
      "841   True  sigma_km_substrate2_ICDHxm      1\n",
      "1037  True    sigma_km_substrate2_MALS      1\n",
      "1163  True       sigma_km_product2_PFK      1\n",
      "1324  True  sigma_km_product2_SUCFUMtm      1\n"
     ]
    }
   ],
   "source": [
    "# check selected features\n",
    "print(feat_selector.support_)\n",
    "\n",
    "# check ranking of features\n",
    "print(feat_selector.ranking_)\n",
    "\n",
    "X_filtered = feat_selector.transform(X_train)\n",
    "print(X_filtered.shape)\n",
    "\n",
    "bor_feat = pd.DataFrame(feat_selector.support_, columns=['keep'])\n",
    "bor_feat['col'] = df.drop('Stability',axis=1).columns.values\n",
    "bor_feat['score'] = feat_selector.ranking_\n",
    "\n",
    "print(bor_feat[bor_feat['keep']==True])"
   ]
  },
  {
   "cell_type": "markdown",
   "id": "636df41d",
   "metadata": {},
   "source": [
    "# Information gain"
   ]
  },
  {
   "cell_type": "markdown",
   "id": "323fb84d",
   "metadata": {},
   "source": [
    "Estimate mutual information for a discrete target variable.\n",
    "\n",
    "**Mutual information (MI)** between two random variables is a non-negative value, which measures the dependency between the variables. It is equal to zero if and only if two random variables are independent, and higher values mean higher dependency.\n",
    "\n",
    "The function relies on nonparametric methods based on entropy estimation from k-nearest neighbors distances."
   ]
  },
  {
   "cell_type": "code",
   "execution_count": 11,
   "id": "dc0a5c28",
   "metadata": {},
   "outputs": [
    {
     "data": {
      "image/png": "[encoded data removed]",
      "text/plain": [
       "<Figure size 1800x720 with 1 Axes>"
      ]
     },
     "metadata": {
      "needs_background": "light"
     },
     "output_type": "display_data"
    }
   ],
   "source": [
    "from sklearn.feature_selection import mutual_info_classif\n",
    "\n",
    "importance = mutual_info_classif(X_train, y_train)\n",
    "feat_importance = pd.Series(importance, df.columns[0: len(df.columns)-1])\n",
    "feat_importance = feat_importance.sort_values()\n",
    "feat_importance.tail(20).plot(kind='barh', color='teal', figsize=(25,10))\n",
    "plt.show()\n",
    "\n",
    "# feat_importance = pd.DataFrame(importance, columns=['mi_score'])\n",
    "# feat_importance['col'] = df.drop('Stability',axis=1).columns.values\n",
    "# feat_importance = feat_importance.sort_values(by='mi_score')\n",
    "# feat_importance"
   ]
  },
  {
   "cell_type": "markdown",
   "id": "7a10b87e",
   "metadata": {},
   "source": [
    "# Backward Feature Elimination:"
   ]
  },
  {
   "cell_type": "markdown",
   "id": "08280a8c",
   "metadata": {},
   "source": [
    "!pip install mlxtend"
   ]
  },
  {
   "cell_type": "markdown",
   "id": "afe62881",
   "metadata": {},
   "source": [
    "Transformer that performs Sequential Feature Selection.\n",
    "\n",
    "This **Sequential Feature Selector** adds (forward selection) or removes (backward selection) features to form a feature subset in a greedy fashion. At each stage, this estimator chooses the best feature to add or remove based on the cross-validation score of an estimator. In the case of unsupervised learning, this Sequential Feature Selector looks only at the features (X), not the desired outputs (y)."
   ]
  },
  {
   "cell_type": "code",
   "execution_count": null,
   "id": "8f64ab21",
   "metadata": {},
   "outputs": [],
   "source": [
    "# %%time\n",
    "\n",
    "# from sklearn.svm import SVC\n",
    "# from mlxtend.feature_selection import SequentialFeatureSelector as SFS\n",
    "# from sklearn.feature_selection import SequentialFeatureSelector\n",
    "\n",
    "# sbs = SequentialFeatureSelector(SVC(), n_features_to_select=None, \n",
    "#                                 direction='backward', n_jobs=-1, scoring='roc_auc')\n",
    "# sbs.fit(X_train, y_train.values.ravel())\n",
    "# sbs.k_feature_names_"
   ]
  },
  {
   "cell_type": "markdown",
   "id": "b84ca83c",
   "metadata": {},
   "source": [
    "# Compare selection of different methods"
   ]
  },
  {
   "cell_type": "code",
   "execution_count": 12,
   "id": "347534f4",
   "metadata": {},
   "outputs": [
    {
     "data": {
      "text/plain": [
       "array(['Gamma_IG3PS', 'Gamma_ALATA_L', 'sigma_km_product2_AKGMAL',\n",
       "       'sigma_km_product2_ALCD26xi', 'sigma_km_substrate_ATPM',\n",
       "       'sigma_km_product1_CHORS', 'sigma_km_product2_GF6PTA',\n",
       "       'sigma_km_substrate1_GLUDy', 'sigma_km_product2_GLUDy',\n",
       "       'sigma_km_product2_HSTPT', 'sigma_km_product1_ICDHxm',\n",
       "       'sigma_km_substrate2_ICDHxm', 'sigma_km_substrate2_MALS',\n",
       "       'sigma_km_product2_PFK', 'sigma_km_product2_SUCFUMtm'],\n",
       "      dtype=object)"
      ]
     },
     "execution_count": 12,
     "metadata": {},
     "output_type": "execute_result"
    }
   ],
   "source": [
    "bor_feat[bor_feat['keep']==True]['col'].values"
   ]
  },
  {
   "cell_type": "code",
   "execution_count": 13,
   "id": "17a147d9",
   "metadata": {},
   "outputs": [
    {
     "data": {
      "text/plain": [
       "array(['sigma_km_substrate18_LMPD_s_0450_c_1_256',\n",
       "       'sigma_km_product_TYRt2r', 'Gamma_CTPtrm',\n",
       "       'sigma_km_product1_ICDHxm', 'sigma_km_product2_SUCFUMtm',\n",
       "       'sigma_km_product2_ALCD26xi', 'sigma_km_product2_GF6PTA',\n",
       "       'Gamma_ORNTA', 'Gamma_ALAtmi', 'Gamma_IG3PS', 'Gamma_GLUSx',\n",
       "       'Gamma_ENO', 'Gamma_HOMSYN2', 'Gamma_HCO3E', 'Gamma_2PHETOHtm'],\n",
       "      dtype=object)"
      ]
     },
     "execution_count": 13,
     "metadata": {},
     "output_type": "execute_result"
    }
   ],
   "source": [
    "rf_features.T.columns.values"
   ]
  },
  {
   "cell_type": "code",
   "execution_count": 14,
   "id": "1e603731",
   "metadata": {
    "scrolled": true
   },
   "outputs": [
    {
     "data": {
      "text/plain": [
       "array(['sigma_km_product2_ICDHym', 'sigma_km_substrate2_TKT2',\n",
       "       'sigma_km_substrate2_MALS', 'sigma_km_substrate2_IPPS',\n",
       "       'sigma_km_substrate2_ICDHxm', 'sigma_km_product2_PRFGS',\n",
       "       'sigma_km_product1_MGSA', 'sigma_km_product2_GF6PTA',\n",
       "       'sigma_km_product2_ASPTAm', 'Gamma_IPPSm',\n",
       "       'sigma_km_product2_SUCFUMtm', 'sigma_km_product2_AKGMAL',\n",
       "       'sigma_km_substrate1_AKGMALtm', 'sigma_km_substrate1_GUAPRT',\n",
       "       'Gamma_GLUDC'], dtype=object)"
      ]
     },
     "execution_count": 14,
     "metadata": {},
     "output_type": "execute_result"
    }
   ],
   "source": [
    "xgb_features.T.columns.values"
   ]
  },
  {
   "cell_type": "code",
   "execution_count": 15,
   "id": "e68565b1",
   "metadata": {},
   "outputs": [
    {
     "data": {
      "text/plain": [
       "array(['sigma_km_substrate1_ILETA', 'sigma_km_product2_ICDHym',\n",
       "       'sigma_km_substrate2_PHETRA', 'sigma_km_product2_ASPTA',\n",
       "       'Gamma_ALCD25xi', 'sigma_km_product2_2OXOADPTm',\n",
       "       'sigma_km_substrate_VALt5m', 'sigma_km_product_E4Ptm',\n",
       "       'sigma_km_product2_GLUDy', 'sigma_km_product2_ASPTAm',\n",
       "       'sigma_km_product2_SUCFUMtm', 'sigma_km_substrate1_AKGMALtm',\n",
       "       'sigma_km_substrate1_GUAPRT', 'sigma_km_product2_AKGMAL',\n",
       "       'Gamma_ALATA_L'], dtype=object)"
      ]
     },
     "execution_count": 15,
     "metadata": {},
     "output_type": "execute_result"
    }
   ],
   "source": [
    "dct_features.T.columns.values"
   ]
  },
  {
   "cell_type": "code",
   "execution_count": 16,
   "id": "4d122687",
   "metadata": {},
   "outputs": [
    {
     "data": {
      "text/plain": [
       "array(['Gamma_ACACT1r', 'Gamma_ALCD2irm', 'Gamma_ANS', 'Gamma_ASPTA',\n",
       "       'Gamma_ACN_a_m', 'Gamma_G6PDH2r', 'Gamma_GLUSx', 'Gamma_GF6PTA',\n",
       "       'Gamma_IG3PS', 'Gamma_AKGDbm', 'Gamma_PHETA1', 'Gamma_PSERT',\n",
       "       'Gamma_PHETRA', 'Gamma_CITtbm', 'Gamma_ASNt2r', 'Gamma_ACALDtm',\n",
       "       'Gamma_HCO3E', 'Gamma_ALAtmi', 'Gamma_ACONTm', 'Gamma_CBPt'],\n",
       "      dtype=object)"
      ]
     },
     "execution_count": 16,
     "metadata": {},
     "output_type": "execute_result"
    }
   ],
   "source": [
    "selectkbest_features"
   ]
  },
  {
   "cell_type": "markdown",
   "id": "515b2999",
   "metadata": {},
   "source": [
    "### RandomForest - XGBoost"
   ]
  },
  {
   "cell_type": "code",
   "execution_count": 17,
   "id": "1c511085",
   "metadata": {},
   "outputs": [
    {
     "name": "stdout",
     "output_type": "stream",
     "text": [
      "['sigma_km_product2_GF6PTA' 'sigma_km_product2_SUCFUMtm']\n"
     ]
    }
   ],
   "source": [
    "x=rf_features.T.columns.values\n",
    "y=xgb_features.T.columns.values\n",
    "print(np.intersect1d(x, y)) "
   ]
  },
  {
   "cell_type": "markdown",
   "id": "843ec86b",
   "metadata": {},
   "source": [
    "### RandomForest - DecisionTree"
   ]
  },
  {
   "cell_type": "code",
   "execution_count": 18,
   "id": "6f18b52d",
   "metadata": {},
   "outputs": [
    {
     "name": "stdout",
     "output_type": "stream",
     "text": [
      "['sigma_km_product2_SUCFUMtm']\n"
     ]
    }
   ],
   "source": [
    "x=rf_features.T.columns.values\n",
    "y=dct_features.T.columns.values\n",
    "print(np.intersect1d(x, y)) "
   ]
  },
  {
   "cell_type": "markdown",
   "id": "825559c3",
   "metadata": {},
   "source": [
    "### DecisionTree - XGBoost"
   ]
  },
  {
   "cell_type": "code",
   "execution_count": 19,
   "id": "24ac448d",
   "metadata": {},
   "outputs": [
    {
     "name": "stdout",
     "output_type": "stream",
     "text": [
      "['sigma_km_product2_AKGMAL' 'sigma_km_product2_ASPTAm'\n",
      " 'sigma_km_product2_ICDHym' 'sigma_km_product2_SUCFUMtm'\n",
      " 'sigma_km_substrate1_AKGMALtm' 'sigma_km_substrate1_GUAPRT']\n"
     ]
    }
   ],
   "source": [
    "x=dct_features.T.columns.values\n",
    "y=xgb_features.T.columns.values\n",
    "print(np.intersect1d(x, y)) "
   ]
  },
  {
   "cell_type": "markdown",
   "id": "e82f15aa",
   "metadata": {},
   "source": [
    "### DecisionTree - Boruta"
   ]
  },
  {
   "cell_type": "code",
   "execution_count": 20,
   "id": "02df73b9",
   "metadata": {},
   "outputs": [
    {
     "name": "stdout",
     "output_type": "stream",
     "text": [
      "['Gamma_ALATA_L' 'sigma_km_product2_AKGMAL' 'sigma_km_product2_GLUDy'\n",
      " 'sigma_km_product2_SUCFUMtm']\n"
     ]
    }
   ],
   "source": [
    "x=dct_features.T.columns.values\n",
    "y=bor_feat[bor_feat['keep']==True]['col'].values\n",
    "print(np.intersect1d(x, y)) "
   ]
  },
  {
   "cell_type": "markdown",
   "id": "8bc1367e",
   "metadata": {},
   "source": [
    " ### Boruta - XGBoost"
   ]
  },
  {
   "cell_type": "code",
   "execution_count": 21,
   "id": "938f0b2f",
   "metadata": {},
   "outputs": [
    {
     "name": "stdout",
     "output_type": "stream",
     "text": [
      "['sigma_km_product2_AKGMAL' 'sigma_km_product2_GF6PTA'\n",
      " 'sigma_km_product2_SUCFUMtm' 'sigma_km_substrate2_ICDHxm'\n",
      " 'sigma_km_substrate2_MALS']\n"
     ]
    }
   ],
   "source": [
    "x=xgb_features.T.columns.values\n",
    "y=bor_feat[bor_feat['keep']==True]['col'].values\n",
    "print(np.intersect1d(x, y)) "
   ]
  },
  {
   "cell_type": "markdown",
   "id": "6edebb01",
   "metadata": {},
   "source": [
    "### Boruta - RandomForest"
   ]
  },
  {
   "cell_type": "code",
   "execution_count": 23,
   "id": "59d26a5a",
   "metadata": {},
   "outputs": [
    {
     "name": "stdout",
     "output_type": "stream",
     "text": [
      "['Gamma_IG3PS' 'sigma_km_product1_ICDHxm' 'sigma_km_product2_ALCD26xi'\n",
      " 'sigma_km_product2_GF6PTA' 'sigma_km_product2_SUCFUMtm']\n"
     ]
    }
   ],
   "source": [
    "x=rf_features.T.columns.values\n",
    "y=bor_feat[bor_feat['keep']==True]['col'].values\n",
    "print(np.intersect1d(x, y)) "
   ]
  },
  {
   "cell_type": "markdown",
   "id": "67b86a24",
   "metadata": {},
   "source": [
    "### SelectKBest - DecisionTree"
   ]
  },
  {
   "cell_type": "code",
   "execution_count": 27,
   "id": "bb796cb3",
   "metadata": {},
   "outputs": [
    {
     "name": "stdout",
     "output_type": "stream",
     "text": [
      "[]\n"
     ]
    }
   ],
   "source": [
    "x=selectkbest_features\n",
    "y=dct_features.T.columns.values\n",
    "print(np.intersect1d(x, y)) "
   ]
  },
  {
   "cell_type": "markdown",
   "id": "3de701ef",
   "metadata": {},
   "source": [
    "### SelectKBest - RandomForest"
   ]
  },
  {
   "cell_type": "code",
   "execution_count": 28,
   "id": "ec316473",
   "metadata": {},
   "outputs": [
    {
     "name": "stdout",
     "output_type": "stream",
     "text": [
      "['Gamma_ALAtmi' 'Gamma_GLUSx' 'Gamma_HCO3E' 'Gamma_IG3PS']\n"
     ]
    }
   ],
   "source": [
    "x=selectkbest_features\n",
    "y=rf_features.T.columns.values\n",
    "print(np.intersect1d(x, y)) "
   ]
  },
  {
   "cell_type": "markdown",
   "id": "b038237f",
   "metadata": {},
   "source": [
    "### SelectKBest - XGBoost"
   ]
  },
  {
   "cell_type": "code",
   "execution_count": 29,
   "id": "54f4522f",
   "metadata": {},
   "outputs": [
    {
     "name": "stdout",
     "output_type": "stream",
     "text": [
      "[]\n"
     ]
    }
   ],
   "source": [
    "x=selectkbest_features\n",
    "y=xgb_features.T.columns.values\n",
    "print(np.intersect1d(x, y)) "
   ]
  },
  {
   "cell_type": "markdown",
   "id": "c4b3eca4",
   "metadata": {},
   "source": [
    "### SelectKBest - Boruta"
   ]
  },
  {
   "cell_type": "code",
   "execution_count": 31,
   "id": "97982f5c",
   "metadata": {},
   "outputs": [
    {
     "name": "stdout",
     "output_type": "stream",
     "text": [
      "['Gamma_IG3PS']\n"
     ]
    }
   ],
   "source": [
    "x=selectkbest_features\n",
    "y=bor_feat[bor_feat['keep']==True]['col'].values\n",
    "print(np.intersect1d(x, y)) "
   ]
  }
 ],
 "metadata": {
  "kernelspec": {
   "display_name": "Python 3 (ipykernel)",
   "language": "python",
   "name": "python3"
  },
  "language_info": {
   "codemirror_mode": {
    "name": "ipython",
    "version": 3
   },
   "file_extension": ".py",
   "mimetype": "text/x-python",
   "name": "python",
   "nbconvert_exporter": "python",
   "pygments_lexer": "ipython3",
   "version": "3.8.10"
  }
 },
 "nbformat": 4,
 "nbformat_minor": 5
}
