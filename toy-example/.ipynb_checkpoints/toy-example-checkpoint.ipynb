{
 "cells": [
  {
   "cell_type": "code",
   "execution_count": 14,
   "id": "fcc9fa30-f154-40a0-928d-722db25eaf67",
   "metadata": {},
   "outputs": [],
   "source": [
    "import numpy as np\n",
    "import pandas as pd\n",
    "import random\n",
    "\n",
    "from matplotlib import pyplot as plt\n",
    "\n",
    "from sklearn.tree import DecisionTreeClassifier\n",
    "from sklearn import tree\n",
    "from sklearn.tree import _tree"
   ]
  },
  {
   "cell_type": "markdown",
   "id": "48c507b2-46d8-4f1d-8918-132aff7299b5",
   "metadata": {},
   "source": [
    "# Training set"
   ]
  },
  {
   "cell_type": "markdown",
   "id": "e73d9615-95ba-45ec-b68f-b6fe49689e59",
   "metadata": {},
   "source": [
    "## make_classification"
   ]
  },
  {
   "cell_type": "code",
   "execution_count": 2,
   "id": "a934673d-b414-4869-8c44-7c06ead06024",
   "metadata": {},
   "outputs": [],
   "source": [
    "from sklearn.datasets import make_classification\n",
    "\n",
    "X, y = make_classification(n_samples=500, n_classes=2, n_features=1500, weights=[0.8, 0.2])\n",
    "\n",
    "feature_names = []\n",
    "for i in range(1500):\n",
    "    feature_names.append('p'+str(i))"
   ]
  },
  {
   "cell_type": "code",
   "execution_count": 3,
   "id": "c70ef582-6808-4a8f-8f09-2c80966d74be",
   "metadata": {},
   "outputs": [],
   "source": [
    "from sklearn.model_selection import train_test_split\n",
    "\n",
    "X_train, X_test, y_train, y_test = train_test_split(X, y, test_size=0.40, random_state=42)"
   ]
  },
  {
   "cell_type": "code",
   "execution_count": 4,
   "id": "14dec685-2665-4ffc-8d34-a9bef495c2be",
   "metadata": {},
   "outputs": [
    {
     "data": {
      "text/plain": [
       "(300, 1500)"
      ]
     },
     "execution_count": 4,
     "metadata": {},
     "output_type": "execute_result"
    }
   ],
   "source": [
    "X_train.shape"
   ]
  },
  {
   "cell_type": "markdown",
   "id": "6a1eb5fe-6902-4f9e-9103-a649a48f503b",
   "metadata": {},
   "source": [
    "## Normalize X"
   ]
  },
  {
   "cell_type": "code",
   "execution_count": 5,
   "id": "4fc79c95-5ae8-47c4-8302-f636eb8faf20",
   "metadata": {},
   "outputs": [
    {
     "data": {
      "text/html": [
       "<div>\n",
       "<style scoped>\n",
       "    .dataframe tbody tr th:only-of-type {\n",
       "        vertical-align: middle;\n",
       "    }\n",
       "\n",
       "    .dataframe tbody tr th {\n",
       "        vertical-align: top;\n",
       "    }\n",
       "\n",
       "    .dataframe thead th {\n",
       "        text-align: right;\n",
       "    }\n",
       "</style>\n",
       "<table border=\"1\" class=\"dataframe\">\n",
       "  <thead>\n",
       "    <tr style=\"text-align: right;\">\n",
       "      <th></th>\n",
       "      <th>p0</th>\n",
       "      <th>p1</th>\n",
       "      <th>p2</th>\n",
       "      <th>p3</th>\n",
       "      <th>p4</th>\n",
       "      <th>p5</th>\n",
       "      <th>p6</th>\n",
       "      <th>p7</th>\n",
       "      <th>p8</th>\n",
       "      <th>p9</th>\n",
       "      <th>...</th>\n",
       "      <th>p1490</th>\n",
       "      <th>p1491</th>\n",
       "      <th>p1492</th>\n",
       "      <th>p1493</th>\n",
       "      <th>p1494</th>\n",
       "      <th>p1495</th>\n",
       "      <th>p1496</th>\n",
       "      <th>p1497</th>\n",
       "      <th>p1498</th>\n",
       "      <th>p1499</th>\n",
       "    </tr>\n",
       "  </thead>\n",
       "  <tbody>\n",
       "    <tr>\n",
       "      <th>0</th>\n",
       "      <td>0.458138</td>\n",
       "      <td>0.477976</td>\n",
       "      <td>0.471510</td>\n",
       "      <td>0.258295</td>\n",
       "      <td>0.003360</td>\n",
       "      <td>0.343657</td>\n",
       "      <td>0.373945</td>\n",
       "      <td>0.426319</td>\n",
       "      <td>0.473876</td>\n",
       "      <td>0.568396</td>\n",
       "      <td>...</td>\n",
       "      <td>0.418980</td>\n",
       "      <td>0.448479</td>\n",
       "      <td>0.619735</td>\n",
       "      <td>0.545552</td>\n",
       "      <td>0.140119</td>\n",
       "      <td>0.279837</td>\n",
       "      <td>0.417317</td>\n",
       "      <td>0.856710</td>\n",
       "      <td>0.668764</td>\n",
       "      <td>0.592908</td>\n",
       "    </tr>\n",
       "    <tr>\n",
       "      <th>1</th>\n",
       "      <td>0.991081</td>\n",
       "      <td>0.448351</td>\n",
       "      <td>0.366028</td>\n",
       "      <td>0.633681</td>\n",
       "      <td>0.580594</td>\n",
       "      <td>0.518804</td>\n",
       "      <td>0.378349</td>\n",
       "      <td>0.358520</td>\n",
       "      <td>0.232343</td>\n",
       "      <td>0.628924</td>\n",
       "      <td>...</td>\n",
       "      <td>0.439139</td>\n",
       "      <td>0.536027</td>\n",
       "      <td>0.342398</td>\n",
       "      <td>0.650287</td>\n",
       "      <td>0.592082</td>\n",
       "      <td>0.511600</td>\n",
       "      <td>0.349288</td>\n",
       "      <td>0.826535</td>\n",
       "      <td>0.575435</td>\n",
       "      <td>0.364042</td>\n",
       "    </tr>\n",
       "    <tr>\n",
       "      <th>2</th>\n",
       "      <td>0.486976</td>\n",
       "      <td>0.198636</td>\n",
       "      <td>0.470830</td>\n",
       "      <td>0.609162</td>\n",
       "      <td>0.380550</td>\n",
       "      <td>0.411584</td>\n",
       "      <td>0.177413</td>\n",
       "      <td>0.383651</td>\n",
       "      <td>0.920440</td>\n",
       "      <td>0.498032</td>\n",
       "      <td>...</td>\n",
       "      <td>0.493916</td>\n",
       "      <td>0.797868</td>\n",
       "      <td>0.305829</td>\n",
       "      <td>0.039861</td>\n",
       "      <td>0.597741</td>\n",
       "      <td>0.303472</td>\n",
       "      <td>0.294336</td>\n",
       "      <td>0.551053</td>\n",
       "      <td>0.605290</td>\n",
       "      <td>0.967673</td>\n",
       "    </tr>\n",
       "  </tbody>\n",
       "</table>\n",
       "<p>3 rows × 1500 columns</p>\n",
       "</div>"
      ],
      "text/plain": [
       "         p0        p1        p2        p3        p4        p5        p6  \\\n",
       "0  0.458138  0.477976  0.471510  0.258295  0.003360  0.343657  0.373945   \n",
       "1  0.991081  0.448351  0.366028  0.633681  0.580594  0.518804  0.378349   \n",
       "2  0.486976  0.198636  0.470830  0.609162  0.380550  0.411584  0.177413   \n",
       "\n",
       "         p7        p8        p9  ...     p1490     p1491     p1492     p1493  \\\n",
       "0  0.426319  0.473876  0.568396  ...  0.418980  0.448479  0.619735  0.545552   \n",
       "1  0.358520  0.232343  0.628924  ...  0.439139  0.536027  0.342398  0.650287   \n",
       "2  0.383651  0.920440  0.498032  ...  0.493916  0.797868  0.305829  0.039861   \n",
       "\n",
       "      p1494     p1495     p1496     p1497     p1498     p1499  \n",
       "0  0.140119  0.279837  0.417317  0.856710  0.668764  0.592908  \n",
       "1  0.592082  0.511600  0.349288  0.826535  0.575435  0.364042  \n",
       "2  0.597741  0.303472  0.294336  0.551053  0.605290  0.967673  \n",
       "\n",
       "[3 rows x 1500 columns]"
      ]
     },
     "metadata": {},
     "output_type": "display_data"
    },
    {
     "data": {
      "text/html": [
       "<div>\n",
       "<style scoped>\n",
       "    .dataframe tbody tr th:only-of-type {\n",
       "        vertical-align: middle;\n",
       "    }\n",
       "\n",
       "    .dataframe tbody tr th {\n",
       "        vertical-align: top;\n",
       "    }\n",
       "\n",
       "    .dataframe thead th {\n",
       "        text-align: right;\n",
       "    }\n",
       "</style>\n",
       "<table border=\"1\" class=\"dataframe\">\n",
       "  <thead>\n",
       "    <tr style=\"text-align: right;\">\n",
       "      <th></th>\n",
       "      <th>p0</th>\n",
       "      <th>p1</th>\n",
       "      <th>p2</th>\n",
       "      <th>p3</th>\n",
       "      <th>p4</th>\n",
       "      <th>p5</th>\n",
       "      <th>p6</th>\n",
       "      <th>p7</th>\n",
       "      <th>p8</th>\n",
       "      <th>p9</th>\n",
       "      <th>...</th>\n",
       "      <th>p1490</th>\n",
       "      <th>p1491</th>\n",
       "      <th>p1492</th>\n",
       "      <th>p1493</th>\n",
       "      <th>p1494</th>\n",
       "      <th>p1495</th>\n",
       "      <th>p1496</th>\n",
       "      <th>p1497</th>\n",
       "      <th>p1498</th>\n",
       "      <th>p1499</th>\n",
       "    </tr>\n",
       "  </thead>\n",
       "  <tbody>\n",
       "    <tr>\n",
       "      <th>0</th>\n",
       "      <td>0.344310</td>\n",
       "      <td>0.611621</td>\n",
       "      <td>0.592530</td>\n",
       "      <td>0.585281</td>\n",
       "      <td>0.571912</td>\n",
       "      <td>0.464637</td>\n",
       "      <td>0.408138</td>\n",
       "      <td>0.546641</td>\n",
       "      <td>0.306909</td>\n",
       "      <td>0.628868</td>\n",
       "      <td>...</td>\n",
       "      <td>0.833508</td>\n",
       "      <td>0.455462</td>\n",
       "      <td>0.597837</td>\n",
       "      <td>0.323434</td>\n",
       "      <td>0.614318</td>\n",
       "      <td>0.606799</td>\n",
       "      <td>0.544658</td>\n",
       "      <td>0.592334</td>\n",
       "      <td>0.504841</td>\n",
       "      <td>0.348943</td>\n",
       "    </tr>\n",
       "    <tr>\n",
       "      <th>1</th>\n",
       "      <td>0.507518</td>\n",
       "      <td>0.649125</td>\n",
       "      <td>0.501109</td>\n",
       "      <td>0.751894</td>\n",
       "      <td>0.741274</td>\n",
       "      <td>0.508058</td>\n",
       "      <td>0.569970</td>\n",
       "      <td>0.568131</td>\n",
       "      <td>0.628838</td>\n",
       "      <td>0.674921</td>\n",
       "      <td>...</td>\n",
       "      <td>0.479544</td>\n",
       "      <td>0.397294</td>\n",
       "      <td>0.531549</td>\n",
       "      <td>0.238236</td>\n",
       "      <td>0.418777</td>\n",
       "      <td>0.293966</td>\n",
       "      <td>0.774047</td>\n",
       "      <td>0.342461</td>\n",
       "      <td>0.679639</td>\n",
       "      <td>0.633424</td>\n",
       "    </tr>\n",
       "    <tr>\n",
       "      <th>2</th>\n",
       "      <td>0.276749</td>\n",
       "      <td>0.337488</td>\n",
       "      <td>0.432248</td>\n",
       "      <td>0.126074</td>\n",
       "      <td>0.348281</td>\n",
       "      <td>0.616429</td>\n",
       "      <td>0.482324</td>\n",
       "      <td>0.353975</td>\n",
       "      <td>0.596732</td>\n",
       "      <td>0.523425</td>\n",
       "      <td>...</td>\n",
       "      <td>0.431657</td>\n",
       "      <td>0.586592</td>\n",
       "      <td>0.814334</td>\n",
       "      <td>0.188886</td>\n",
       "      <td>0.275292</td>\n",
       "      <td>0.407423</td>\n",
       "      <td>0.202724</td>\n",
       "      <td>1.043256</td>\n",
       "      <td>0.585557</td>\n",
       "      <td>0.757603</td>\n",
       "    </tr>\n",
       "  </tbody>\n",
       "</table>\n",
       "<p>3 rows × 1500 columns</p>\n",
       "</div>"
      ],
      "text/plain": [
       "         p0        p1        p2        p3        p4        p5        p6  \\\n",
       "0  0.344310  0.611621  0.592530  0.585281  0.571912  0.464637  0.408138   \n",
       "1  0.507518  0.649125  0.501109  0.751894  0.741274  0.508058  0.569970   \n",
       "2  0.276749  0.337488  0.432248  0.126074  0.348281  0.616429  0.482324   \n",
       "\n",
       "         p7        p8        p9  ...     p1490     p1491     p1492     p1493  \\\n",
       "0  0.546641  0.306909  0.628868  ...  0.833508  0.455462  0.597837  0.323434   \n",
       "1  0.568131  0.628838  0.674921  ...  0.479544  0.397294  0.531549  0.238236   \n",
       "2  0.353975  0.596732  0.523425  ...  0.431657  0.586592  0.814334  0.188886   \n",
       "\n",
       "      p1494     p1495     p1496     p1497     p1498     p1499  \n",
       "0  0.614318  0.606799  0.544658  0.592334  0.504841  0.348943  \n",
       "1  0.418777  0.293966  0.774047  0.342461  0.679639  0.633424  \n",
       "2  0.275292  0.407423  0.202724  1.043256  0.585557  0.757603  \n",
       "\n",
       "[3 rows x 1500 columns]"
      ]
     },
     "metadata": {},
     "output_type": "display_data"
    }
   ],
   "source": [
    "from sklearn.preprocessing import MinMaxScaler\n",
    "\n",
    "scl = MinMaxScaler()\n",
    "\n",
    "# train\n",
    "X_train = scl.fit_transform(X_train)\n",
    "\n",
    "X_train = pd.DataFrame(X_train, columns=feature_names)\n",
    "display(X_train.head(3))\n",
    "\n",
    "# test\n",
    "X_test = scl.transform(X_test)\n",
    "\n",
    "X_test = pd.DataFrame(X_test, columns=feature_names)\n",
    "display(X_test.head(3))"
   ]
  },
  {
   "cell_type": "code",
   "execution_count": 6,
   "id": "1e552875-ccf5-46b8-9c36-990c6d32617f",
   "metadata": {},
   "outputs": [
    {
     "data": {
      "text/html": [
       "<div>\n",
       "<style scoped>\n",
       "    .dataframe tbody tr th:only-of-type {\n",
       "        vertical-align: middle;\n",
       "    }\n",
       "\n",
       "    .dataframe tbody tr th {\n",
       "        vertical-align: top;\n",
       "    }\n",
       "\n",
       "    .dataframe thead th {\n",
       "        text-align: right;\n",
       "    }\n",
       "</style>\n",
       "<table border=\"1\" class=\"dataframe\">\n",
       "  <thead>\n",
       "    <tr style=\"text-align: right;\">\n",
       "      <th></th>\n",
       "      <th>GP</th>\n",
       "    </tr>\n",
       "  </thead>\n",
       "  <tbody>\n",
       "    <tr>\n",
       "      <th>0</th>\n",
       "      <td>0</td>\n",
       "    </tr>\n",
       "    <tr>\n",
       "      <th>1</th>\n",
       "      <td>0</td>\n",
       "    </tr>\n",
       "  </tbody>\n",
       "</table>\n",
       "</div>"
      ],
      "text/plain": [
       "   GP\n",
       "0   0\n",
       "1   0"
      ]
     },
     "metadata": {},
     "output_type": "display_data"
    },
    {
     "data": {
      "text/html": [
       "<div>\n",
       "<style scoped>\n",
       "    .dataframe tbody tr th:only-of-type {\n",
       "        vertical-align: middle;\n",
       "    }\n",
       "\n",
       "    .dataframe tbody tr th {\n",
       "        vertical-align: top;\n",
       "    }\n",
       "\n",
       "    .dataframe thead th {\n",
       "        text-align: right;\n",
       "    }\n",
       "</style>\n",
       "<table border=\"1\" class=\"dataframe\">\n",
       "  <thead>\n",
       "    <tr style=\"text-align: right;\">\n",
       "      <th></th>\n",
       "      <th>GP</th>\n",
       "    </tr>\n",
       "  </thead>\n",
       "  <tbody>\n",
       "    <tr>\n",
       "      <th>0</th>\n",
       "      <td>0</td>\n",
       "    </tr>\n",
       "    <tr>\n",
       "      <th>1</th>\n",
       "      <td>1</td>\n",
       "    </tr>\n",
       "  </tbody>\n",
       "</table>\n",
       "</div>"
      ],
      "text/plain": [
       "   GP\n",
       "0   0\n",
       "1   1"
      ]
     },
     "metadata": {},
     "output_type": "display_data"
    }
   ],
   "source": [
    "y_train = pd.DataFrame(y_train)\n",
    "y_test = pd.DataFrame(y_test)\n",
    "\n",
    "y_train.rename({0:'GP'}, axis=1, inplace=True)\n",
    "y_test.rename({0:'GP'}, axis=1, inplace=True)\n",
    "\n",
    "display(y_train.head(2))\n",
    "display(y_test.head(2))"
   ]
  },
  {
   "cell_type": "markdown",
   "id": "390ffaf3-7d93-4685-8d7c-3509afdf7ee7",
   "metadata": {},
   "source": [
    "## FI on train set"
   ]
  },
  {
   "cell_type": "code",
   "execution_count": 7,
   "id": "ae05ce45-06bb-4b7a-9344-63bdf5595928",
   "metadata": {},
   "outputs": [
    {
     "name": "stdout",
     "output_type": "stream",
     "text": [
      "0.21\n"
     ]
    }
   ],
   "source": [
    "FI = y_train['GP'].value_counts()[1] / len(y_train)\n",
    "print(FI)"
   ]
  },
  {
   "cell_type": "markdown",
   "id": "a68c57a4-c136-4e8b-b51c-c899768d6d62",
   "metadata": {},
   "source": [
    "## Train a decision tree"
   ]
  },
  {
   "cell_type": "code",
   "execution_count": 8,
   "id": "cf6fd8a5-79fc-4875-bfe8-b9fc93ab5d62",
   "metadata": {},
   "outputs": [
    {
     "data": {
      "text/html": [
       "<style>#sk-container-id-1 {color: black;background-color: white;}#sk-container-id-1 pre{padding: 0;}#sk-container-id-1 div.sk-toggleable {background-color: white;}#sk-container-id-1 label.sk-toggleable__label {cursor: pointer;display: block;width: 100%;margin-bottom: 0;padding: 0.3em;box-sizing: border-box;text-align: center;}#sk-container-id-1 label.sk-toggleable__label-arrow:before {content: \"▸\";float: left;margin-right: 0.25em;color: #696969;}#sk-container-id-1 label.sk-toggleable__label-arrow:hover:before {color: black;}#sk-container-id-1 div.sk-estimator:hover label.sk-toggleable__label-arrow:before {color: black;}#sk-container-id-1 div.sk-toggleable__content {max-height: 0;max-width: 0;overflow: hidden;text-align: left;background-color: #f0f8ff;}#sk-container-id-1 div.sk-toggleable__content pre {margin: 0.2em;color: black;border-radius: 0.25em;background-color: #f0f8ff;}#sk-container-id-1 input.sk-toggleable__control:checked~div.sk-toggleable__content {max-height: 200px;max-width: 100%;overflow: auto;}#sk-container-id-1 input.sk-toggleable__control:checked~label.sk-toggleable__label-arrow:before {content: \"▾\";}#sk-container-id-1 div.sk-estimator input.sk-toggleable__control:checked~label.sk-toggleable__label {background-color: #d4ebff;}#sk-container-id-1 div.sk-label input.sk-toggleable__control:checked~label.sk-toggleable__label {background-color: #d4ebff;}#sk-container-id-1 input.sk-hidden--visually {border: 0;clip: rect(1px 1px 1px 1px);clip: rect(1px, 1px, 1px, 1px);height: 1px;margin: -1px;overflow: hidden;padding: 0;position: absolute;width: 1px;}#sk-container-id-1 div.sk-estimator {font-family: monospace;background-color: #f0f8ff;border: 1px dotted black;border-radius: 0.25em;box-sizing: border-box;margin-bottom: 0.5em;}#sk-container-id-1 div.sk-estimator:hover {background-color: #d4ebff;}#sk-container-id-1 div.sk-parallel-item::after {content: \"\";width: 100%;border-bottom: 1px solid gray;flex-grow: 1;}#sk-container-id-1 div.sk-label:hover label.sk-toggleable__label {background-color: #d4ebff;}#sk-container-id-1 div.sk-serial::before {content: \"\";position: absolute;border-left: 1px solid gray;box-sizing: border-box;top: 0;bottom: 0;left: 50%;z-index: 0;}#sk-container-id-1 div.sk-serial {display: flex;flex-direction: column;align-items: center;background-color: white;padding-right: 0.2em;padding-left: 0.2em;position: relative;}#sk-container-id-1 div.sk-item {position: relative;z-index: 1;}#sk-container-id-1 div.sk-parallel {display: flex;align-items: stretch;justify-content: center;background-color: white;position: relative;}#sk-container-id-1 div.sk-item::before, #sk-container-id-1 div.sk-parallel-item::before {content: \"\";position: absolute;border-left: 1px solid gray;box-sizing: border-box;top: 0;bottom: 0;left: 50%;z-index: -1;}#sk-container-id-1 div.sk-parallel-item {display: flex;flex-direction: column;z-index: 1;position: relative;background-color: white;}#sk-container-id-1 div.sk-parallel-item:first-child::after {align-self: flex-end;width: 50%;}#sk-container-id-1 div.sk-parallel-item:last-child::after {align-self: flex-start;width: 50%;}#sk-container-id-1 div.sk-parallel-item:only-child::after {width: 0;}#sk-container-id-1 div.sk-dashed-wrapped {border: 1px dashed gray;margin: 0 0.4em 0.5em 0.4em;box-sizing: border-box;padding-bottom: 0.4em;background-color: white;}#sk-container-id-1 div.sk-label label {font-family: monospace;font-weight: bold;display: inline-block;line-height: 1.2em;}#sk-container-id-1 div.sk-label-container {text-align: center;}#sk-container-id-1 div.sk-container {/* jupyter's `normalize.less` sets `[hidden] { display: none; }` but bootstrap.min.css set `[hidden] { display: none !important; }` so we also need the `!important` here to be able to override the default hidden behavior on the sphinx rendered scikit-learn.org. See: https://github.com/scikit-learn/scikit-learn/issues/21755 */display: inline-block !important;position: relative;}#sk-container-id-1 div.sk-text-repr-fallback {display: none;}</style><div id=\"sk-container-id-1\" class=\"sk-top-container\"><div class=\"sk-text-repr-fallback\"><pre>DecisionTreeClassifier(random_state=42)</pre><b>In a Jupyter environment, please rerun this cell to show the HTML representation or trust the notebook. <br />On GitHub, the HTML representation is unable to render, please try loading this page with nbviewer.org.</b></div><div class=\"sk-container\" hidden><div class=\"sk-item\"><div class=\"sk-estimator sk-toggleable\"><input class=\"sk-toggleable__control sk-hidden--visually\" id=\"sk-estimator-id-1\" type=\"checkbox\" checked><label for=\"sk-estimator-id-1\" class=\"sk-toggleable__label sk-toggleable__label-arrow\">DecisionTreeClassifier</label><div class=\"sk-toggleable__content\"><pre>DecisionTreeClassifier(random_state=42)</pre></div></div></div></div></div>"
      ],
      "text/plain": [
       "DecisionTreeClassifier(random_state=42)"
      ]
     },
     "execution_count": 8,
     "metadata": {},
     "output_type": "execute_result"
    }
   ],
   "source": [
    "dt = DecisionTreeClassifier(random_state=42)\n",
    "dt.fit(X_train, y_train)"
   ]
  },
  {
   "cell_type": "code",
   "execution_count": 21,
   "id": "cd2bfb1c-2e02-4d0e-b4f2-af4f79452b9e",
   "metadata": {},
   "outputs": [
    {
     "data": {
      "image/png": "[encoded data removed]",
      "text/plain": [
       "<Figure size 1080x1080 with 1 Axes>"
      ]
     },
     "metadata": {
      "needs_background": "light"
     },
     "output_type": "display_data"
    }
   ],
   "source": [
    "class_names = y_train['GP'].unique().astype(str)\n",
    "\n",
    "fig = plt.figure(figsize=(15,15))\n",
    "_ = tree.plot_tree(dt, \n",
    "                   feature_names=feature_names,  \n",
    "                   class_names=class_names,\n",
    "                   filled=True)"
   ]
  },
  {
   "cell_type": "code",
   "execution_count": 15,
   "id": "86ec5860-5842-457a-9081-5a70742925e8",
   "metadata": {},
   "outputs": [],
   "source": [
    "def get_rules(tree, feature_names, class_names):\n",
    "    tree_ = tree.tree_\n",
    "    feature_name = [\n",
    "        feature_names[i] if i != _tree.TREE_UNDEFINED else \"undefined!\"\n",
    "        for i in tree_.feature\n",
    "    ]\n",
    "\n",
    "    paths = []\n",
    "    path = []\n",
    "    \n",
    "    def recurse(node, path, paths):\n",
    "        \n",
    "        if tree_.feature[node] != _tree.TREE_UNDEFINED:\n",
    "            name = feature_name[node]\n",
    "            threshold = tree_.threshold[node]\n",
    "            p1, p2 = list(path), list(path)\n",
    "            p1 += [f\"({name} <= {np.round(threshold, 3)})\"]\n",
    "            recurse(tree_.children_left[node], p1, paths)\n",
    "            p2 += [f\"({name} > {np.round(threshold, 3)})\"]\n",
    "            recurse(tree_.children_right[node], p2, paths)\n",
    "        else:\n",
    "            path += [(tree_.value[node], tree_.n_node_samples[node])]\n",
    "            paths += [path]\n",
    "            \n",
    "    recurse(0, path, paths)\n",
    "\n",
    "    # sort by samples count\n",
    "    samples_count = [p[-1][1] for p in paths]\n",
    "    ii = list(np.argsort(samples_count))\n",
    "    paths = [paths[i] for i in reversed(ii)]\n",
    "    \n",
    "    rules = []\n",
    "    for path in paths:\n",
    "        rule = \"if \"\n",
    "        \n",
    "        for p in path[:-1]:\n",
    "            if rule != \"if \":\n",
    "                rule += \" and \"\n",
    "            rule += str(p)\n",
    "        rule += \" then \"\n",
    "        if class_names is None:\n",
    "            rule += \"response: \"+str(np.round(path[-1][0][0][0],3))\n",
    "        else:\n",
    "            classes = path[-1][0][0]\n",
    "            l = np.argmax(classes)\n",
    "            rule += f\"class: {class_names[l]} (proba: {np.round(100.0*classes[l]/np.sum(classes),2)}%)\"\n",
    "        rule += f\" | based on {path[-1][1]:,} samples\"\n",
    "        rules += [rule]\n",
    "        \n",
    "    return rules"
   ]
  },
  {
   "cell_type": "code",
   "execution_count": 17,
   "id": "2e7f804d-65a3-4398-9cb6-f7d1163fcbf6",
   "metadata": {},
   "outputs": [
    {
     "data": {
      "text/plain": [
       "['if (p317 <= 0.637) and (p1267 <= 0.918) and (p240 > 0.074) and (p532 > 0.175) and (p828 <= 0.991) and (p481 <= 0.907) and (p1068 > 0.123) then class: 0 (proba: 100.0%) | based on 227 samples',\n",
       " 'if (p317 > 0.637) and (p275 > 0.183) and (p137 <= 0.739) and (p1332 <= 0.802) then class: 1 (proba: 100.0%) | based on 50 samples',\n",
       " 'if (p317 <= 0.637) and (p1267 <= 0.918) and (p240 <= 0.074) and (p485 <= 0.591) then class: 1 (proba: 100.0%) | based on 4 samples',\n",
       " 'if (p317 > 0.637) and (p275 > 0.183) and (p137 > 0.739) and (p381 > 0.294) then class: 0 (proba: 100.0%) | based on 3 samples',\n",
       " 'if (p317 > 0.637) and (p275 <= 0.183) then class: 0 (proba: 100.0%) | based on 3 samples',\n",
       " 'if (p317 <= 0.637) and (p1267 > 0.918) then class: 1 (proba: 100.0%) | based on 3 samples',\n",
       " 'if (p317 <= 0.637) and (p1267 <= 0.918) and (p240 <= 0.074) and (p485 > 0.591) then class: 0 (proba: 100.0%) | based on 3 samples',\n",
       " 'if (p317 <= 0.637) and (p1267 <= 0.918) and (p240 > 0.074) and (p532 <= 0.175) then class: 1 (proba: 100.0%) | based on 2 samples',\n",
       " 'if (p317 > 0.637) and (p275 > 0.183) and (p137 > 0.739) and (p381 <= 0.294) then class: 1 (proba: 100.0%) | based on 1 samples',\n",
       " 'if (p317 > 0.637) and (p275 > 0.183) and (p137 <= 0.739) and (p1332 > 0.802) then class: 0 (proba: 100.0%) | based on 1 samples',\n",
       " 'if (p317 <= 0.637) and (p1267 <= 0.918) and (p240 > 0.074) and (p532 > 0.175) and (p828 > 0.991) then class: 1 (proba: 100.0%) | based on 1 samples',\n",
       " 'if (p317 <= 0.637) and (p1267 <= 0.918) and (p240 > 0.074) and (p532 > 0.175) and (p828 <= 0.991) and (p481 > 0.907) then class: 1 (proba: 100.0%) | based on 1 samples',\n",
       " 'if (p317 <= 0.637) and (p1267 <= 0.918) and (p240 > 0.074) and (p532 > 0.175) and (p828 <= 0.991) and (p481 <= 0.907) and (p1068 <= 0.123) then class: 1 (proba: 100.0%) | based on 1 samples']"
      ]
     },
     "execution_count": 17,
     "metadata": {},
     "output_type": "execute_result"
    }
   ],
   "source": [
    "rules = get_rules(dt, feature_names=feature_names, \n",
    "                  class_names=class_names)\n",
    "\n",
    "rules"
   ]
  },
  {
   "cell_type": "markdown",
   "id": "c024ccd9-1719-41a0-a636-c77e8e747bee",
   "metadata": {},
   "source": [
    "# Validation set"
   ]
  },
  {
   "cell_type": "markdown",
   "id": "801d0fa3-0ec0-4504-b7e1-103bff3e8216",
   "metadata": {},
   "source": [
    "### **Rule 1:**  \n",
    "\n",
    "+ **if *(p317 > 0.637)* and *(p275 > 0.183)* and *(p137 <= 0.739)* and *(p1332 <= 0.802)* then class: 1 | based on 50 samples**"
   ]
  },
  {
   "cell_type": "markdown",
   "id": "f21011cf-28ae-4f97-8f1e-db104d3178a6",
   "metadata": {},
   "source": [
    "Sample from test set rows based on _Rule 1_ (__Validation set__)"
   ]
  },
  {
   "cell_type": "code",
   "execution_count": 34,
   "id": "b0e26856-0643-47f4-b82c-14668c594468",
   "metadata": {},
   "outputs": [],
   "source": [
    "X_test['GP'] = (X_test['p317'] > 0.637) * (X_test['p275'] > 0.183) * (X_test['p137'] <= 0.739) * (X_test['p1332'] <= 0.802)\n",
    "\n",
    "index_GP = X_test[X_test['GP'] == True].index\n",
    "\n",
    "X_val = X_test.loc[index_GP]\n",
    "y_val = y_test.loc[index_GP]\n",
    "\n",
    "X_val.drop(columns='GP', inplace=True)"
   ]
  },
  {
   "cell_type": "markdown",
   "id": "3cbbecf9-cb7c-40c0-a1a7-48fb02231c70",
   "metadata": {},
   "source": [
    "## FI on test set"
   ]
  },
  {
   "cell_type": "code",
   "execution_count": 36,
   "id": "49ab0477-f37d-400d-9a33-e01e39e632ab",
   "metadata": {},
   "outputs": [
    {
     "name": "stdout",
     "output_type": "stream",
     "text": [
      "0.205\n"
     ]
    }
   ],
   "source": [
    "FI = y_test['GP'].value_counts()[1] / len(y_test)\n",
    "print(FI)"
   ]
  },
  {
   "cell_type": "code",
   "execution_count": 37,
   "id": "9621a0dd-946a-4bc5-a3f3-f7ea5a8550b4",
   "metadata": {},
   "outputs": [
    {
     "name": "stdout",
     "output_type": "stream",
     "text": [
      "0.8333333333333334\n"
     ]
    }
   ],
   "source": [
    "FI_val = y_val['GP'].value_counts()[1] / len(y_val)\n",
    "print(FI_val)"
   ]
  },
  {
   "cell_type": "markdown",
   "id": "d047642c-2d64-4a9b-923a-89c139c704ad",
   "metadata": {},
   "source": [
    "# Scope rules"
   ]
  },
  {
   "cell_type": "code",
   "execution_count": 39,
   "id": "9811b705-e043-4879-9196-64ad3ca160f6",
   "metadata": {},
   "outputs": [],
   "source": [
    "# Import skope-rules\n",
    "import six\n",
    "import sys\n",
    "\n",
    "sys.modules['sklearn.externals.six'] = six\n",
    "from skrules import SkopeRules"
   ]
  },
  {
   "cell_type": "code",
   "execution_count": null,
   "id": "23f3b792-fbff-4c20-b4b9-bee90049cc4e",
   "metadata": {},
   "outputs": [],
   "source": [
    "# Train a skope-rules-boosting classifier\n",
    "skope_rules_clf = SkopeRules(feature_names=feature_names, random_state=42,\n",
    "                               n_estimators=30,\n",
    "                               recall_min=0.05, precision_min=0.9,\n",
    "                               max_samples=0.7,\n",
    "                               max_depth_duplication= 4, max_depth = 5)\n",
    "\n",
    "skope_rules_clf.fit(X.values, y.values.reshape(-1,))"
   ]
  },
  {
   "cell_type": "code",
   "execution_count": null,
   "id": "935631fc-a4c3-4cb3-bc11-574f7d8d24d0",
   "metadata": {},
   "outputs": [],
   "source": [
    "print(str(len(skope_rules_clf.rules_)) + ' rules have been built with ' +\n",
    "      'SkopeRules.\\n')\n",
    "\n",
    "for i_rule, rule in enumerate(skope_rules_clf.rules_[:4]):\n",
    "    print(rule[0])  "
   ]
  },
  {
   "cell_type": "markdown",
   "id": "0172e1f9-e523-4548-9646-b70839ec6731",
   "metadata": {},
   "source": [
    "## Validation set"
   ]
  },
  {
   "cell_type": "markdown",
   "id": "4bcd45f4-5ee9-4ff2-bdc0-3bc731f5ba8e",
   "metadata": {},
   "source": [
    "### **Rule:** \n",
    "p1 <= 0.8321373164653778 and p2 <= 0.3993700295686722"
   ]
  },
  {
   "cell_type": "code",
   "execution_count": null,
   "id": "bb384331-0802-4a6e-8209-2119bc7d4f28",
   "metadata": {},
   "outputs": [],
   "source": [
    "p1 = []\n",
    "p2 = []\n",
    "\n",
    "for i in range(1000):\n",
    "    p1.append(random.uniform(0, 0.493))\n",
    "    p2.append(random.uniform(0, 0.493))\n",
    "    \n",
    "df_rule1 = pd.DataFrame()\n",
    "df_rule1['p1'] = p1\n",
    "df_rule1['p2'] = p2\n",
    "\n",
    "df_rule1['GP'] = (df_rule1['p1'] - 0.1)**2 + 4*(df_rule1['p2'] - 0.1)**2 - 0.64 < 0\n",
    "\n",
    "df_rule1.head()"
   ]
  },
  {
   "cell_type": "markdown",
   "id": "e65cdd03-de9e-4196-9e62-49de20d05e9d",
   "metadata": {},
   "source": [
    "## FI "
   ]
  },
  {
   "cell_type": "code",
   "execution_count": null,
   "id": "fa168781-c885-4e95-b1c4-fbfa5bbb6bb4",
   "metadata": {},
   "outputs": [],
   "source": [
    "FI = df_rule1['GP'].value_counts()[1] / len(df_rule1)\n",
    "print(FI)"
   ]
  }
 ],
 "metadata": {
  "kernelspec": {
   "display_name": "Python 3 (ipykernel)",
   "language": "python",
   "name": "python3"
  },
  "language_info": {
   "codemirror_mode": {
    "name": "ipython",
    "version": 3
   },
   "file_extension": ".py",
   "mimetype": "text/x-python",
   "name": "python",
   "nbconvert_exporter": "python",
   "pygments_lexer": "ipython3",
   "version": "3.8.10"
  }
 },
 "nbformat": 4,
 "nbformat_minor": 5
}
